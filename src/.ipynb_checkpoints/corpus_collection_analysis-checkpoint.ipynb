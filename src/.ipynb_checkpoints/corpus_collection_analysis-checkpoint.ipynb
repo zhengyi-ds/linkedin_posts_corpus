{
 "cells": [
  {
   "cell_type": "markdown",
   "id": "e6152437-249a-4ca5-b3c4-43f309f2d0a9",
   "metadata": {},
   "source": [
    "# Corpus Collection & Analysis"
   ]
  },
  {
   "cell_type": "markdown",
   "id": "763140e2-65c5-4a9b-803e-311c554218ca",
   "metadata": {},
   "source": [
    "## Importing Libraries"
   ]
  },
  {
   "cell_type": "code",
   "execution_count": 1,
   "id": "6ed999a0-c77a-4ed2-8c14-69d2bc4c0f5a",
   "metadata": {},
   "outputs": [
    {
     "name": "stderr",
     "output_type": "stream",
     "text": [
      "[nltk_data] Downloading package punkt to\n",
      "[nltk_data]     C:\\Users\\mujta\\AppData\\Roaming\\nltk_data...\n",
      "[nltk_data]   Package punkt is already up-to-date!\n"
     ]
    },
    {
     "data": {
      "text/plain": [
       "True"
      ]
     },
     "execution_count": 1,
     "metadata": {},
     "output_type": "execute_result"
    }
   ],
   "source": [
    "import pandas as pd\n",
    "import numpy as np\n",
    "import nltk\n",
    "from nltk.tokenize import word_tokenize\n",
    "from nltk.corpus import brown\n",
    "from collections import Counter\n",
    "from nltk.corpus import stopwords\n",
    "\n",
    "nltk.download('punkt')"
   ]
  },
  {
   "cell_type": "markdown",
   "id": "a1c810a8-d32c-49ea-ad85-55b9e3db187d",
   "metadata": {},
   "source": [
    "## Analyzing the original data"
   ]
  },
  {
   "cell_type": "markdown",
   "id": "47d6f4b1-1e6d-43ea-b283-9d1fb7ecdc4c",
   "metadata": {},
   "source": [
    "The original LinkedIn data is stored in following directory: \"../data/linkedIn_data.csv\""
   ]
  },
  {
   "cell_type": "code",
   "execution_count": 2,
   "id": "c5696359-1ca0-4d78-a38c-8ed3f04a654a",
   "metadata": {},
   "outputs": [
    {
     "name": "stderr",
     "output_type": "stream",
     "text": [
      "C:\\Users\\mujta\\AppData\\Local\\Temp\\ipykernel_22564\\1468111168.py:1: DtypeWarning: Columns (18) have mixed types. Specify dtype option on import or set low_memory=False.\n",
      "  original_data = pd.read_csv(\"../data/linkedIn_data.csv\")\n"
     ]
    },
    {
     "data": {
      "text/html": [
       "<div>\n",
       "<style scoped>\n",
       "    .dataframe tbody tr th:only-of-type {\n",
       "        vertical-align: middle;\n",
       "    }\n",
       "\n",
       "    .dataframe tbody tr th {\n",
       "        vertical-align: top;\n",
       "    }\n",
       "\n",
       "    .dataframe thead th {\n",
       "        text-align: right;\n",
       "    }\n",
       "</style>\n",
       "<table border=\"1\" class=\"dataframe\">\n",
       "  <thead>\n",
       "    <tr style=\"text-align: right;\">\n",
       "      <th></th>\n",
       "      <th>Unnamed: 0</th>\n",
       "      <th>name</th>\n",
       "      <th>headline</th>\n",
       "      <th>location</th>\n",
       "      <th>followers</th>\n",
       "      <th>connections</th>\n",
       "      <th>about</th>\n",
       "      <th>time_spent</th>\n",
       "      <th>content</th>\n",
       "      <th>content_links</th>\n",
       "      <th>media_type</th>\n",
       "      <th>media_url</th>\n",
       "      <th>num_hashtags</th>\n",
       "      <th>hashtag_followers</th>\n",
       "      <th>hashtags</th>\n",
       "      <th>reactions</th>\n",
       "      <th>comments</th>\n",
       "      <th>views</th>\n",
       "      <th>votes</th>\n",
       "    </tr>\n",
       "  </thead>\n",
       "  <tbody>\n",
       "    <tr>\n",
       "      <th>0</th>\n",
       "      <td>0</td>\n",
       "      <td>Nicholas Wyman</td>\n",
       "      <td>CEO IWSI Group</td>\n",
       "      <td>NaN</td>\n",
       "      <td>6484.0</td>\n",
       "      <td>500+</td>\n",
       "      <td>Nicholas Wyman for the past 25 years has shone...</td>\n",
       "      <td>1 day ago</td>\n",
       "      <td>Robert Lerman  writes that achieving a healthy...</td>\n",
       "      <td>[['https://www.linkedin.com/in/ACoAAACy1HkBviR...</td>\n",
       "      <td>article</td>\n",
       "      <td>['https://www.urban.org/urban-wire/its-time-mo...</td>\n",
       "      <td>4</td>\n",
       "      <td>0</td>\n",
       "      <td>[['#workbasedlearning', 'https://www.linkedin....</td>\n",
       "      <td>12</td>\n",
       "      <td>1</td>\n",
       "      <td>NaN</td>\n",
       "      <td>NaN</td>\n",
       "    </tr>\n",
       "    <tr>\n",
       "      <th>1</th>\n",
       "      <td>1</td>\n",
       "      <td>Nicholas Wyman</td>\n",
       "      <td>CEO IWSI Group</td>\n",
       "      <td>NaN</td>\n",
       "      <td>6484.0</td>\n",
       "      <td>500+</td>\n",
       "      <td>Nicholas Wyman for the past 25 years has shone...</td>\n",
       "      <td>1 week ago</td>\n",
       "      <td>National disability advocate  Sara Hart Weir, ...</td>\n",
       "      <td>[['https://www.linkedin.com/in/ACoAAAHsfJgBb7_...</td>\n",
       "      <td>NaN</td>\n",
       "      <td>[]</td>\n",
       "      <td>0</td>\n",
       "      <td>0</td>\n",
       "      <td>[]</td>\n",
       "      <td>11</td>\n",
       "      <td>0</td>\n",
       "      <td>NaN</td>\n",
       "      <td>NaN</td>\n",
       "    </tr>\n",
       "    <tr>\n",
       "      <th>2</th>\n",
       "      <td>2</td>\n",
       "      <td>Nicholas Wyman</td>\n",
       "      <td>CEO IWSI Group</td>\n",
       "      <td>NaN</td>\n",
       "      <td>6484.0</td>\n",
       "      <td>500+</td>\n",
       "      <td>Nicholas Wyman for the past 25 years has shone...</td>\n",
       "      <td>2 months ago</td>\n",
       "      <td>NaN</td>\n",
       "      <td>[]</td>\n",
       "      <td>NaN</td>\n",
       "      <td>[]</td>\n",
       "      <td>0</td>\n",
       "      <td>0</td>\n",
       "      <td>[]</td>\n",
       "      <td>15</td>\n",
       "      <td>0</td>\n",
       "      <td>NaN</td>\n",
       "      <td>NaN</td>\n",
       "    </tr>\n",
       "    <tr>\n",
       "      <th>3</th>\n",
       "      <td>3</td>\n",
       "      <td>Nicholas Wyman</td>\n",
       "      <td>CEO IWSI Group</td>\n",
       "      <td>NaN</td>\n",
       "      <td>6484.0</td>\n",
       "      <td>500+</td>\n",
       "      <td>Nicholas Wyman for the past 25 years has shone...</td>\n",
       "      <td>2 months ago</td>\n",
       "      <td>Exploring in this months Talent Management &amp; H...</td>\n",
       "      <td>[['https://www.linkedin.com/in/ACoAAAADlGIBLfn...</td>\n",
       "      <td>article</td>\n",
       "      <td>['https://www.tlnt.com/apprenticeships-that-br...</td>\n",
       "      <td>4</td>\n",
       "      <td>0</td>\n",
       "      <td>[['#careerplanning', 'https://www.linkedin.com...</td>\n",
       "      <td>44</td>\n",
       "      <td>0</td>\n",
       "      <td>NaN</td>\n",
       "      <td>NaN</td>\n",
       "    </tr>\n",
       "    <tr>\n",
       "      <th>4</th>\n",
       "      <td>4</td>\n",
       "      <td>Nicholas Wyman</td>\n",
       "      <td>CEO IWSI Group</td>\n",
       "      <td>NaN</td>\n",
       "      <td>6484.0</td>\n",
       "      <td>500+</td>\n",
       "      <td>Nicholas Wyman for the past 25 years has shone...</td>\n",
       "      <td>2 months ago</td>\n",
       "      <td>I count myself fortunate to have spent time wi...</td>\n",
       "      <td>[['https://www.linkedin.com/in/ACoAABhNxDUB9IX...</td>\n",
       "      <td>article</td>\n",
       "      <td>['https://gritdaily.com/the-legacy-of-verified...</td>\n",
       "      <td>3</td>\n",
       "      <td>0</td>\n",
       "      <td>[['#verifiedresumes', 'https://www.linkedin.co...</td>\n",
       "      <td>22</td>\n",
       "      <td>2</td>\n",
       "      <td>NaN</td>\n",
       "      <td>NaN</td>\n",
       "    </tr>\n",
       "  </tbody>\n",
       "</table>\n",
       "</div>"
      ],
      "text/plain": [
       "   Unnamed: 0            name        headline location  followers connections  \\\n",
       "0           0  Nicholas Wyman  CEO IWSI Group      NaN     6484.0        500+   \n",
       "1           1  Nicholas Wyman  CEO IWSI Group      NaN     6484.0        500+   \n",
       "2           2  Nicholas Wyman  CEO IWSI Group      NaN     6484.0        500+   \n",
       "3           3  Nicholas Wyman  CEO IWSI Group      NaN     6484.0        500+   \n",
       "4           4  Nicholas Wyman  CEO IWSI Group      NaN     6484.0        500+   \n",
       "\n",
       "                                               about    time_spent  \\\n",
       "0  Nicholas Wyman for the past 25 years has shone...     1 day ago   \n",
       "1  Nicholas Wyman for the past 25 years has shone...    1 week ago   \n",
       "2  Nicholas Wyman for the past 25 years has shone...  2 months ago   \n",
       "3  Nicholas Wyman for the past 25 years has shone...  2 months ago   \n",
       "4  Nicholas Wyman for the past 25 years has shone...  2 months ago   \n",
       "\n",
       "                                             content  \\\n",
       "0  Robert Lerman  writes that achieving a healthy...   \n",
       "1  National disability advocate  Sara Hart Weir, ...   \n",
       "2                                                NaN   \n",
       "3  Exploring in this months Talent Management & H...   \n",
       "4  I count myself fortunate to have spent time wi...   \n",
       "\n",
       "                                       content_links media_type  \\\n",
       "0  [['https://www.linkedin.com/in/ACoAAACy1HkBviR...    article   \n",
       "1  [['https://www.linkedin.com/in/ACoAAAHsfJgBb7_...        NaN   \n",
       "2                                                 []        NaN   \n",
       "3  [['https://www.linkedin.com/in/ACoAAAADlGIBLfn...    article   \n",
       "4  [['https://www.linkedin.com/in/ACoAABhNxDUB9IX...    article   \n",
       "\n",
       "                                           media_url  num_hashtags  \\\n",
       "0  ['https://www.urban.org/urban-wire/its-time-mo...             4   \n",
       "1                                                 []             0   \n",
       "2                                                 []             0   \n",
       "3  ['https://www.tlnt.com/apprenticeships-that-br...             4   \n",
       "4  ['https://gritdaily.com/the-legacy-of-verified...             3   \n",
       "\n",
       "   hashtag_followers                                           hashtags  \\\n",
       "0                  0  [['#workbasedlearning', 'https://www.linkedin....   \n",
       "1                  0                                                 []   \n",
       "2                  0                                                 []   \n",
       "3                  0  [['#careerplanning', 'https://www.linkedin.com...   \n",
       "4                  0  [['#verifiedresumes', 'https://www.linkedin.co...   \n",
       "\n",
       "   reactions  comments  views votes  \n",
       "0         12         1    NaN   NaN  \n",
       "1         11         0    NaN   NaN  \n",
       "2         15         0    NaN   NaN  \n",
       "3         44         0    NaN   NaN  \n",
       "4         22         2    NaN   NaN  "
      ]
     },
     "execution_count": 2,
     "metadata": {},
     "output_type": "execute_result"
    }
   ],
   "source": [
    "original_data = pd.read_csv(\"../data/linkedIn_data.csv\")\n",
    "\n",
    "original_data.head()"
   ]
  },
  {
   "cell_type": "code",
   "execution_count": 4,
   "id": "e38d36f6-71bf-4c9d-b8a5-fca56100a62d",
   "metadata": {},
   "outputs": [
    {
     "data": {
      "text/plain": [
       "media_type\n",
       "article       15144\n",
       "image          8708\n",
       "video          2690\n",
       "document        113\n",
       "poll             86\n",
       "entity           32\n",
       "newsletter        4\n",
       "view              2\n",
       "Name: count, dtype: int64"
      ]
     },
     "execution_count": 4,
     "metadata": {},
     "output_type": "execute_result"
    }
   ],
   "source": [
    "original_data['media_type'].value_counts()"
   ]
  },
  {
   "cell_type": "markdown",
   "id": "828c55ec-3a06-4ccf-b24b-9dc4db38eade",
   "metadata": {},
   "source": [
    "The data has a basic annotation with media type column, which gives categories upon different kind of posts by influencers. Like 'entity' posts are hiring posts as seen below. But 'article', 'video' and 'image' posts can be further labelled into many categories which will be useful in analysis for LinkedIn users. That is why we will sample from 'article' 'video' and 'image' media_type only as they are large in number while others are too specific or have a very low number of instances."
   ]
  },
  {
   "cell_type": "markdown",
   "id": "469c9682-179c-404b-b1fd-a1964446a811",
   "metadata": {},
   "source": [
    "### Entity (Hiring Posts)"
   ]
  },
  {
   "cell_type": "code",
   "execution_count": 5,
   "id": "933d4ffb-2d2a-4234-9d17-d3d39459e17f",
   "metadata": {},
   "outputs": [
    {
     "data": {
      "text/plain": [
       "1011    GUESS WHO'S HIRING!?  At 500, we're on a missi...\n",
       "1012    WE'RE HIRING! Come join me in bringing  500 St...\n",
       "1396                                       Join our team!\n",
       "1588    Wonolo is growing rapidly and we're hiring an ...\n",
       "1589    Wonolo is growing rapidly and we’re hiring an ...\n",
       "Name: content, dtype: object"
      ]
     },
     "execution_count": 5,
     "metadata": {},
     "output_type": "execute_result"
    }
   ],
   "source": [
    "original_data.loc[original_data['media_type']=='entity']['content'].head(5)"
   ]
  },
  {
   "cell_type": "markdown",
   "id": "091ee849-cbe6-4462-aa6c-7be941bb7c15",
   "metadata": {},
   "source": [
    "### Article"
   ]
  },
  {
   "cell_type": "code",
   "execution_count": 6,
   "id": "7353996d-3474-4164-b38f-304e77735790",
   "metadata": {},
   "outputs": [
    {
     "data": {
      "text/plain": [
       "0    Robert Lerman  writes that achieving a healthy...\n",
       "3    Exploring in this months Talent Management & H...\n",
       "4    I count myself fortunate to have spent time wi...\n",
       "5    Online job platforms are a different way of wo...\n",
       "6    Between the burgeoning unemployment rates and ...\n",
       "Name: content, dtype: object"
      ]
     },
     "execution_count": 6,
     "metadata": {},
     "output_type": "execute_result"
    }
   ],
   "source": [
    "original_data.loc[original_data['media_type']=='article']['content'].head(5)"
   ]
  },
  {
   "cell_type": "markdown",
   "id": "3eac40db-b29b-410b-b8dc-bcaf246bbbc9",
   "metadata": {},
   "source": [
    "### Video"
   ]
  },
  {
   "cell_type": "code",
   "execution_count": 7,
   "id": "d04c3a6e-d215-42cd-93c3-50b0e28629af",
   "metadata": {},
   "outputs": [
    {
     "data": {
      "text/plain": [
       "35     The sign above the steel gates of Auschwitz re...\n",
       "37     Great to talk with Fox Business today on why c...\n",
       "170    Watch this live podcast on trauma tonight:  ht...\n",
       "192    A fun podcast with an excellent educational le...\n",
       "249    For those of you who couldn't attend the live ...\n",
       "Name: content, dtype: object"
      ]
     },
     "execution_count": 7,
     "metadata": {},
     "output_type": "execute_result"
    }
   ],
   "source": [
    "original_data.loc[original_data['media_type']=='video']['content'].head(5)"
   ]
  },
  {
   "cell_type": "markdown",
   "id": "7eeb0550-a779-4ada-89b3-b2020eb367df",
   "metadata": {},
   "source": [
    "### Image"
   ]
  },
  {
   "cell_type": "code",
   "execution_count": 8,
   "id": "0051a60b-35a0-4f0a-9a32-fa479fe44b71",
   "metadata": {},
   "outputs": [
    {
     "data": {
      "text/plain": [
       "23    No-one can be sure how America will ‘snap back...\n",
       "48    Our new report, Using Modern Apprenticeship to...\n",
       "62    Kentucky announces an innovative new registere...\n",
       "64    Forging partnerships with industry is critical...\n",
       "75    Students in Darwin in Australia’s Top End will...\n",
       "Name: content, dtype: object"
      ]
     },
     "execution_count": 8,
     "metadata": {},
     "output_type": "execute_result"
    }
   ],
   "source": [
    "original_data.loc[original_data['media_type']=='image']['content'].head(5)"
   ]
  },
  {
   "cell_type": "markdown",
   "id": "458c863d-dd1d-4783-b2f4-7325b8ca116e",
   "metadata": {},
   "source": [
    "### Missing values in Content (posts) Column"
   ]
  },
  {
   "cell_type": "code",
   "execution_count": 43,
   "id": "4aa0af27-e5dd-4feb-9f0a-645fcfe1e731",
   "metadata": {},
   "outputs": [
    {
     "data": {
      "text/plain": [
       "2016"
      ]
     },
     "execution_count": 43,
     "metadata": {},
     "output_type": "execute_result"
    }
   ],
   "source": [
    "original_data[\"content\"].isna().sum()"
   ]
  },
  {
   "cell_type": "markdown",
   "id": "70ff4ccd-5932-426c-a9c4-56c24923a442",
   "metadata": {},
   "source": [
    "## Preparing data using sampling"
   ]
  },
  {
   "cell_type": "markdown",
   "id": "46ed70b6-efa8-4019-ac6c-9de363978611",
   "metadata": {},
   "source": [
    "### Extracting 'article' 'video' and 'image' media_type posts and removing empty posts for sampling"
   ]
  },
  {
   "cell_type": "code",
   "execution_count": 17,
   "id": "f1fef95f-39fe-4fb7-952d-333d13618e22",
   "metadata": {},
   "outputs": [
    {
     "data": {
      "text/plain": [
       "media_type\n",
       "article    14590\n",
       "image       8614\n",
       "video       2674\n",
       "Name: count, dtype: int64"
      ]
     },
     "execution_count": 17,
     "metadata": {},
     "output_type": "execute_result"
    }
   ],
   "source": [
    "cleaned_data = original_data[original_data['media_type'].isin(['article','video', 'image' ])]\n",
    "\n",
    "cleaned_data = cleaned_data.dropna(subset=[\"content\"])\n",
    "\n",
    "cleaned_data['media_type'].value_counts()"
   ]
  },
  {
   "cell_type": "markdown",
   "id": "7b9307dc-c4f4-4ae2-b3e5-5a6aef7627d7",
   "metadata": {},
   "source": [
    "### Checking duplicate posts in original dataset for  'article' 'video' and 'image' media_type posts"
   ]
  },
  {
   "cell_type": "code",
   "execution_count": 42,
   "id": "ce35e424-1773-4977-8d56-4f095fd7b0a1",
   "metadata": {},
   "outputs": [
    {
     "name": "stdout",
     "output_type": "stream",
     "text": [
      "0\n"
     ]
    }
   ],
   "source": [
    "duplicate_values = cleaned_data['content'][cleaned_data['content'].duplicated()]\n",
    "print(len(duplicate_values)) "
   ]
  },
  {
   "cell_type": "markdown",
   "id": "7f67f683-522c-4bd4-a155-a763b4700d2b",
   "metadata": {},
   "source": [
    "### Removing duplicates"
   ]
  },
  {
   "cell_type": "code",
   "execution_count": 23,
   "id": "14fc6fd9-1f46-4e32-b287-2c717208fdde",
   "metadata": {},
   "outputs": [],
   "source": [
    "cleaned_data = cleaned_data.drop_duplicates(subset=[\"content\"], keep=\"first\")"
   ]
  },
  {
   "cell_type": "markdown",
   "id": "0844d377-73e3-4a5d-a24d-cb7ed8ed1f81",
   "metadata": {},
   "source": [
    "### Randomly Sampling 1600 posts for annotations with fixed random state of 523 for reproducibility of code"
   ]
  },
  {
   "cell_type": "code",
   "execution_count": 31,
   "id": "5bcb0a34-2e0d-4dd9-ab51-8d1bebe28e65",
   "metadata": {},
   "outputs": [
    {
     "data": {
      "text/plain": [
       "media_type\n",
       "article    900\n",
       "image      544\n",
       "video      156\n",
       "Name: count, dtype: int64"
      ]
     },
     "execution_count": 31,
     "metadata": {},
     "output_type": "execute_result"
    }
   ],
   "source": [
    "sampled_data = cleaned_data.sample(n=1600, random_state=523) \n",
    "\n",
    "sampled_data['media_type'].value_counts()"
   ]
  },
  {
   "cell_type": "markdown",
   "id": "67ae1096-31cb-4a5e-9696-dc1cdcc29638",
   "metadata": {},
   "source": [
    "### Checking duplicate posts in sampled dataset"
   ]
  },
  {
   "cell_type": "code",
   "execution_count": 32,
   "id": "185348c7-7acc-477f-b1b5-7fd8ca89c3ed",
   "metadata": {},
   "outputs": [
    {
     "name": "stdout",
     "output_type": "stream",
     "text": [
      "0\n"
     ]
    }
   ],
   "source": [
    "duplicate_values = cleaned_data['content'][cleaned_data['content'].duplicated()]\n",
    "print(len(duplicate_values)) "
   ]
  },
  {
   "cell_type": "markdown",
   "id": "95cf03d5-c2a9-4f15-a377-9a75064fbea7",
   "metadata": {},
   "source": [
    "### Removing irrelavnt columns and user info columns"
   ]
  },
  {
   "cell_type": "code",
   "execution_count": 33,
   "id": "f19fd308-522e-4254-8418-ea03c7965dae",
   "metadata": {},
   "outputs": [],
   "source": [
    "columns_to_remove = [\"name\", \"headline\", \"location\", \"about\", \"votes\", \"media_url\"]\n",
    "\n",
    "sampled_data = sampled_data.drop(columns=columns_to_remove, errors=\"ignore\")"
   ]
  },
  {
   "cell_type": "markdown",
   "id": "abc6c378-9506-4791-8053-1f1c2544aa98",
   "metadata": {},
   "source": [
    "### Creating four different data files for annotators"
   ]
  },
  {
   "cell_type": "markdown",
   "id": "a7f3bc2c-2d34-41c9-8044-88fab3f07cd7",
   "metadata": {},
   "source": [
    "\"label\" column:  The label assigned by annotator using schema"
   ]
  },
  {
   "cell_type": "code",
   "execution_count": 35,
   "id": "88626a2d-4a99-4c8a-af04-43b4041bcc28",
   "metadata": {},
   "outputs": [],
   "source": [
    "sampled_data['label'] = ''\n",
    "\n",
    "# Annotation files for Muhammad, Kartik, Timothy, Zhengyi\n",
    "\n",
    "members = ['Muhammad', 'Kartik', 'Timothy', 'Zhengyi']\n",
    "\n",
    "split_data = np.array_split(sampled_data, 4)\n",
    "\n",
    "# Defining the subsets of 4 data parts\n",
    "subsets = [\n",
    "    [0, 1, 2],  # Muhammad: data parts 1, 2, 3\n",
    "    [0, 1, 3],  # Kartik: data parts 1, 2, 4\n",
    "    [0, 2, 3],  # Timothy: data parts 1, 3, 4\n",
    "    [1, 2, 3]   # Zhengyi: data parts 2, 3, 4\n",
    "]\n",
    "\n",
    "# Making 1200 instances in a file for each member covering a total of 1600 instances, each labelled three times\n",
    "for i, subset in enumerate(subsets):\n",
    "    combined_df = pd.concat([split_data[j] for j in subset], ignore_index=True)\n",
    "    combined_df.rename(columns={\"Unnamed: 0\": \"index\"}, inplace=True)\n",
    "    \n",
    "    combined_df.to_csv(f\"../data/Annotation_instances/linkedIn_data_{members[i]}.csv\", index=False)"
   ]
  },
  {
   "cell_type": "markdown",
   "id": "c80c25ac-bf6b-4999-b31e-46f4ce90264f",
   "metadata": {},
   "source": [
    "## Analyzing Posts Text"
   ]
  },
  {
   "cell_type": "markdown",
   "id": "09b98897-60d5-466d-a1f3-097a5c08d90c",
   "metadata": {},
   "source": [
    "### Combining all posts into one text from our sampled data of 1600 instances"
   ]
  },
  {
   "cell_type": "code",
   "execution_count": 36,
   "id": "0f941bb4-82b4-43bf-a3c7-909bcfceaa85",
   "metadata": {},
   "outputs": [],
   "source": [
    "posts = \" \".join(sampled_data['content'].astype(str))"
   ]
  },
  {
   "cell_type": "markdown",
   "id": "ed91a2b0-a2f0-4720-81c1-6fa6d0e16ce9",
   "metadata": {},
   "source": [
    "### Number of tokens"
   ]
  },
  {
   "cell_type": "code",
   "execution_count": 37,
   "id": "0ecd13df-7b9b-4729-8a69-e79bf26e141a",
   "metadata": {},
   "outputs": [
    {
     "name": "stdout",
     "output_type": "stream",
     "text": [
      "Total number of tokens: 95763\n"
     ]
    }
   ],
   "source": [
    "tokens = word_tokenize(posts)\n",
    "\n",
    "print(f\"Total number of tokens: {len(tokens)}\")"
   ]
  },
  {
   "cell_type": "markdown",
   "id": "c82b2d70-7655-4c00-b838-cc76dff4f90f",
   "metadata": {},
   "source": [
    "### Performing statistical analysis of influencer's posts with respect to brown corpus"
   ]
  },
  {
   "cell_type": "code",
   "execution_count": 38,
   "id": "eb8d5496-1617-41fc-9377-8b29fc6cd14b",
   "metadata": {},
   "outputs": [],
   "source": [
    "brown_text = \" \".join(brown.words()).lower()"
   ]
  },
  {
   "cell_type": "code",
   "execution_count": 39,
   "id": "881297e0-a58d-45c0-9101-b085cf5c4fe7",
   "metadata": {},
   "outputs": [],
   "source": [
    "def compute_statistics(text):\n",
    "    words = nltk.word_tokenize(text)\n",
    "    words = [w for w in words if w.isalpha()]\n",
    "    \n",
    "    num_words = len(words)\n",
    "    num_sentences = text.count(\".\") \n",
    "    \n",
    "    avg_word_length = np.mean([len(w) for w in words])\n",
    "    vocab_size = len(set(words))\n",
    "    lexical_diversity = vocab_size / num_words if num_words > 0 else 0\n",
    "    hapax_legomena = sum(1 for w in Counter(words).values() if w == 1) \n",
    "    avg_sentence_length = num_words / num_sentences if num_sentences > 0 else 0\n",
    "    type_token_ratio = vocab_size / num_words if num_words > 0 else 0\n",
    "    \n",
    "    return {\n",
    "        \"num_words\": num_words,\n",
    "        \"num_sentences\": num_sentences,\n",
    "        \"avg_word_length\": avg_word_length,\n",
    "        \"vocab_size\": vocab_size,\n",
    "        \"lexical_diversity\": lexical_diversity,\n",
    "        \"hapax_legomena\": hapax_legomena,\n",
    "        \"avg_sentence_length\": avg_sentence_length,\n",
    "        \"type_token_ratio\": type_token_ratio\n",
    "    }"
   ]
  },
  {
   "cell_type": "code",
   "execution_count": 40,
   "id": "fab7f1e5-1537-4351-9224-fc26ff69eb18",
   "metadata": {},
   "outputs": [
    {
     "name": "stdout",
     "output_type": "stream",
     "text": [
      "                 Statistic   Brown Corpus         Posts\n",
      "0          Number of Words  992910.000000  76184.000000\n",
      "1      Number of Sentences   55578.000000   4938.000000\n",
      "2      Average Word Length       4.678113      4.885580\n",
      "3          Vocabulary Size   40669.000000  11846.000000\n",
      "4        Lexical Diversity       0.040959      0.155492\n",
      "5           Hapax Legomena   15538.000000   6558.000000\n",
      "6  Average Sentence Length      17.865162     15.428109\n",
      "7      Type-to-Token Ratio       0.040959      0.155492\n"
     ]
    }
   ],
   "source": [
    "import pandas as pd\n",
    "\n",
    "# Compute statistics for Brown Corpus and Posts\n",
    "brown_stats = compute_statistics(brown_text)\n",
    "posts_stats = compute_statistics(posts)\n",
    "\n",
    "stats_data = {\n",
    "    \"Statistic\": [\"Number of Words\", \"Number of Sentences\", \"Average Word Length\", \"Vocabulary Size\",\n",
    "                  \"Lexical Diversity\", \"Hapax Legomena\", \"Average Sentence Length\", \"Type-to-Token Ratio\"],\n",
    "    \"Brown Corpus\": [brown_stats[\"num_words\"], brown_stats[\"num_sentences\"], brown_stats[\"avg_word_length\"],\n",
    "                     brown_stats[\"vocab_size\"], brown_stats[\"lexical_diversity\"], brown_stats[\"hapax_legomena\"],\n",
    "                     brown_stats[\"avg_sentence_length\"], brown_stats[\"type_token_ratio\"]],\n",
    "    \"Posts\": [posts_stats[\"num_words\"], posts_stats[\"num_sentences\"], posts_stats[\"avg_word_length\"],\n",
    "              posts_stats[\"vocab_size\"], posts_stats[\"lexical_diversity\"], posts_stats[\"hapax_legomena\"],\n",
    "              posts_stats[\"avg_sentence_length\"], posts_stats[\"type_token_ratio\"]]\n",
    "}\n",
    "\n",
    "df_stats = pd.DataFrame(stats_data)\n",
    "\n",
    "print(df_stats)"
   ]
  },
  {
   "cell_type": "code",
   "execution_count": null,
   "id": "4a2d3c77-400d-4bcd-b5a3-dc6161d5d31f",
   "metadata": {},
   "outputs": [],
   "source": []
  }
 ],
 "metadata": {
  "kernelspec": {
   "display_name": "Python [conda env:base] *",
   "language": "python",
   "name": "conda-base-py"
  },
  "language_info": {
   "codemirror_mode": {
    "name": "ipython",
    "version": 3
   },
   "file_extension": ".py",
   "mimetype": "text/x-python",
   "name": "python",
   "nbconvert_exporter": "python",
   "pygments_lexer": "ipython3",
   "version": "3.12.7"
  }
 },
 "nbformat": 4,
 "nbformat_minor": 5
}
